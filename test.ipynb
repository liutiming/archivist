{
 "cells": [
  {
   "cell_type": "code",
   "execution_count": 60,
   "metadata": {},
   "outputs": [
    {
     "name": "stdout",
     "output_type": "stream",
     "text": [
      "Not enough buffer space in the disk, reattempting in 1 minute\n",
      "Not enough buffer space in the disk, reattempting in 1 minute\n",
      "Not enough buffer space in the disk, reattempting in 1 minute\n",
      "Not enough buffer space in the disk, reattempting in 1 minute\n",
      "Not enough buffer space in the disk, reattempting in 1 minute\n"
     ]
    },
    {
     "ename": "KeyboardInterrupt",
     "evalue": "",
     "output_type": "error",
     "traceback": [
      "\u001b[1;31m---------------------------------------------------------------------------\u001b[0m",
      "\u001b[1;31mKeyboardInterrupt\u001b[0m                         Traceback (most recent call last)",
      "\u001b[1;32m<ipython-input-60-79a594a6d74f>\u001b[0m in \u001b[0;36m<module>\u001b[1;34m\u001b[0m\n\u001b[0;32m     42\u001b[0m     \u001b[1;32mwhile\u001b[0m \u001b[0mfile_size_in_gb\u001b[0m \u001b[1;33m<\u001b[0m \u001b[0mfree_size_in_gb\u001b[0m \u001b[1;33m-\u001b[0m \u001b[1;36m5\u001b[0m\u001b[1;33m:\u001b[0m\u001b[1;33m\u001b[0m\u001b[1;33m\u001b[0m\u001b[0m\n\u001b[0;32m     43\u001b[0m         \u001b[0mprint\u001b[0m\u001b[1;33m(\u001b[0m\u001b[1;34m\"Not enough buffer space in the disk, reattempting in 1 minute\"\u001b[0m\u001b[1;33m)\u001b[0m\u001b[1;33m\u001b[0m\u001b[1;33m\u001b[0m\u001b[0m\n\u001b[1;32m---> 44\u001b[1;33m         \u001b[0mtime\u001b[0m\u001b[1;33m.\u001b[0m\u001b[0msleep\u001b[0m\u001b[1;33m(\u001b[0m\u001b[1;36m60\u001b[0m\u001b[1;33m)\u001b[0m\u001b[1;33m\u001b[0m\u001b[1;33m\u001b[0m\u001b[0m\n\u001b[0m\u001b[0;32m     45\u001b[0m     \u001b[0mshutil\u001b[0m\u001b[1;33m.\u001b[0m\u001b[0mmove\u001b[0m\u001b[1;33m(\u001b[0m\u001b[0mdownload_file\u001b[0m\u001b[1;33m,\u001b[0m \u001b[0mupload_file\u001b[0m\u001b[1;33m)\u001b[0m\u001b[1;33m\u001b[0m\u001b[1;33m\u001b[0m\u001b[0m\n",
      "\u001b[1;31mKeyboardInterrupt\u001b[0m: "
     ]
    }
   ],
   "source": [
    "import os\n",
    "from datetime import datetime \n",
    "import time\n",
    "import math\n",
    "import shutil\n",
    "import socket\n",
    "\n",
    "def internet(host=\"8.8.8.8\", port=53, timeout=3):\n",
    "    \"\"\"\n",
    "    Host: 8.8.8.8 (google-public-dns-a.google.com)\n",
    "    OpenPort: 53/tcp\n",
    "    Service: domain (DNS/TCP)\n",
    "    \"\"\"\n",
    "    try:\n",
    "        socket.setdefaulttimeout(timeout)\n",
    "        socket.socket(socket.AF_INET, socket.SOCK_STREAM).connect((host, port))\n",
    "        return True\n",
    "    except socket.error as ex:\n",
    "        print(ex)\n",
    "        return False\n",
    "\n",
    "if internet():\n",
    "    pass\n",
    "else:\n",
    "    raise Exception(\"There is no active internet connection. Job aborted\")\n",
    "\n",
    "current_date = datetime.today().strftime('%Y%m%d')\n",
    "download_path = r\"C:\\Users\\timing\\Downloads\"\n",
    "files = [os.path.join(download_path, file) for file in os.listdir(download_path)]\n",
    "\n",
    "move_file_format = [\"mp4\", \"wav\"]\n",
    "\n",
    "files_to_move = [file for file in files if file[-3:] in move_file_format]\n",
    "\n",
    "files_to_check = list(set(files) - set(files_to_move))\n",
    "files_to_keep = list()\n",
    "\n",
    "for file in files_to_check:\n",
    "    modified_time = os.path.getmtime(file)\n",
    "    creation_time = os.path.getctime(file)\n",
    "    modified_time_in_min = math.floor(modified_time/60)\n",
    "    creation_time_in_min = math.floor(creation_time/60)\n",
    "\n",
    "\n",
    "    if modified_time_in_min == creation_time_in_min or modified_time_in_min == creation_time_in_min + 1:\n",
    "        files_to_move.append(file)\n",
    "    else:\n",
    "        files_to_keep.append(file)\n",
    "\n",
    "upload_path = r\"G:\\My Drive\\Outbox\" + \"\\\\\" + current_date\n",
    "if os.path.isdir(upload_path):\n",
    "    pass \n",
    "else: \n",
    "    os.makedirs(upload_path + 1, exist_ok=True)\n",
    "\n",
    "file_itself = [f.replace(download_path + \"\\\\\", \"\") for f in files_to_move]\n",
    "to_upload_file = [os.path.join(upload_path, f) for f in file_itself]\n",
    "for download_file, upload_file in zip(files_to_move, to_upload_file):\n",
    "    free_size_in_gb = shutil.disk_usage(\"G:\\\\\").free/(1024**3)\n",
    "    file_size_in_gb = os.path.getsize(download_file)/(1024**3)\n",
    "    while file_size_in_gb < free_size_in_gb - 5:\n",
    "        print(\"Not enough buffer space in the disk, reattempting in 1 minute\")\n",
    "        time.sleep(60)\n",
    "    shutil.move(download_file, upload_file)"
   ]
  },
  {
   "cell_type": "code",
   "execution_count": 62,
   "metadata": {},
   "outputs": [],
   "source": [
    "import tkinter as tk\n",
    "window=tk.Tk()"
   ]
  }
 ],
 "metadata": {
  "interpreter": {
   "hash": "5940e5622424f3daf936277c3ede0e08d756c7c5e62eff80e0cf001d608bf821"
  },
  "kernelspec": {
   "display_name": "Python 3.7.6 64-bit ('base': conda)",
   "language": "python",
   "name": "python3"
  },
  "language_info": {
   "codemirror_mode": {
    "name": "ipython",
    "version": 3
   },
   "file_extension": ".py",
   "mimetype": "text/x-python",
   "name": "python",
   "nbconvert_exporter": "python",
   "pygments_lexer": "ipython3",
   "version": "3.7.6"
  },
  "orig_nbformat": 4
 },
 "nbformat": 4,
 "nbformat_minor": 2
}
